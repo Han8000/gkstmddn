{
  "nbformat": 4,
  "nbformat_minor": 0,
  "metadata": {
    "colab": {
      "provenance": [],
      "machine_shape": "hm",
      "private_outputs": true,
      "gpuType": "A100",
      "authorship_tag": "ABX9TyMYVEKZAQtLnUQbgx12e3eN",
      "include_colab_link": true
    },
    "kernelspec": {
      "name": "python3",
      "display_name": "Python 3"
    },
    "language_info": {
      "name": "python"
    },
    "accelerator": "GPU"
  },
  "cells": [
    {
      "cell_type": "markdown",
      "metadata": {
        "id": "view-in-github",
        "colab_type": "text"
      },
      "source": [
        "<a href=\"https://colab.research.google.com/github/Han8000/gkstmddn/blob/main/DoroSeeV1.ipynb\" target=\"_parent\"><img src=\"https://colab.research.google.com/assets/colab-badge.svg\" alt=\"Open In Colab\"/></a>"
      ]
    },
    {
      "cell_type": "code",
      "execution_count": null,
      "metadata": {
        "id": "Uo4lglYRtVUB"
      },
      "outputs": [],
      "source": [
        "from google.colab import drive\n",
        "drive.mount('/content/drive')"
      ]
    },
    {
      "cell_type": "code",
      "source": [
        "import os\n",
        "import zipfile\n",
        "\n",
        "# 압축 파일 경로\n",
        "zip_path = \"/content/drive/MyDrive/DoroSeeV1/DoroSee.v2-doroseev1.yolov5pytorch.zip\"\n",
        "extract_path = \"/content/DoroSeeV1\"  # 압축을 풀 경로\n",
        "\n",
        "# 압축 해제\n",
        "os.makedirs(extract_path, exist_ok=True)\n",
        "with zipfile.ZipFile(zip_path, 'r') as zip_ref:\n",
        "    zip_ref.extractall(extract_path)\n",
        "\n"
      ],
      "metadata": {
        "id": "KrLwjWpTyLpU"
      },
      "execution_count": null,
      "outputs": []
    },
    {
      "cell_type": "code",
      "source": [
        "import os\n",
        "import zipfile\n",
        "\n",
        "# YOLO 데이터셋이 저장된 Google Drive 경로 설정\n",
        "dataset_path = \"/content/drive/MyDrive/DoroSeeV1/DoroSee.v2-doroseev1.yolov5pytorch.zip\"\n",
        "extract_path = \"/content/DoroSeeV1\"  # 압축 해제할 경로\n",
        "\n",
        "# 압축 해제\n",
        "os.makedirs(extract_path, exist_ok=True)\n",
        "with zipfile.ZipFile(dataset_path, 'r') as zip_ref:\n",
        "    zip_ref.extractall(extract_path)\n",
        "\n"
      ],
      "metadata": {
        "id": "gd-lWfrTujcB"
      },
      "execution_count": null,
      "outputs": []
    },
    {
      "cell_type": "code",
      "source": [
        "print(\"📂 압축 해제된 폴더 내용:\")\n",
        "print(os.listdir(extract_path))\n"
      ],
      "metadata": {
        "id": "q5zx9zpzyROj"
      },
      "execution_count": null,
      "outputs": []
    },
    {
      "cell_type": "code",
      "source": [
        "import os\n",
        "\n",
        "# 경로 설정\n",
        "data_yaml_path = \"/content/DoroSeeV1/DoroSee.v2-doroseev1.yolov5pytorch/data.yaml\"\n",
        "directory = os.path.dirname(data_yaml_path)\n",
        "\n",
        "# 경로가 없으면 생성\n",
        "os.makedirs(directory, exist_ok=True)\n",
        "\n",
        "# 수정된 yaml 내용\n",
        "yaml_content = \"\"\"train: /content/DoroSeeV1/DoroSee.v2-doroseev1.yolov5pytorch/train/images\n",
        "val: /content/DoroSeeV1/DoroSee.v2-doroseev1.yolov5pytorch/valid/images\n",
        "test: /content/DoroSeeV1/DoroSee.v2-doroseev1.yolov5pytorch/test/images\n",
        "\n",
        "nc: 2\n",
        "names: ['Crack', 'pothole']\n",
        "\n",
        "roboflow:\n",
        "  workspace: dorosee\n",
        "  project: dorosee\n",
        "  version: 2\n",
        "  license: CC BY 4.0\n",
        "  url: https://universe.roboflow.com/dorosee/dorosee/dataset/2\n",
        "\"\"\"\n",
        "\n",
        "# 수정된 yaml 파일로 저장\n",
        "with open(data_yaml_path, \"w\") as f:\n",
        "    f.write(yaml_content)\n"
      ],
      "metadata": {
        "id": "K5TXJ1b7zT7F"
      },
      "execution_count": null,
      "outputs": []
    },
    {
      "cell_type": "code",
      "source": [
        "data_yaml_path = \"/content/DoroSeeV1/data.yaml\"\n",
        "\n",
        "with open(data_yaml_path, \"r\") as f:\n",
        "    print(f.read())\n"
      ],
      "metadata": {
        "id": "dCSo-uFgvJk-"
      },
      "execution_count": null,
      "outputs": []
    },
    {
      "cell_type": "code",
      "source": [
        "!git clone https://github.com/ultralytics/yolov5.git\n",
        "%cd yolov5\n",
        "!pip install -r requirements.txt  # 필요한 라이브러리 설치\n"
      ],
      "metadata": {
        "id": "uafqv_1avP2L"
      },
      "execution_count": null,
      "outputs": []
    },
    {
      "cell_type": "code",
      "source": [
        "!python train.py --img 640 --batch 32 --epochs 100 --data \"/content/DoroSeeV1/data.yaml\" --weights yolov5s.pt\n"
      ],
      "metadata": {
        "id": "6pAyKA3TvTxR"
      },
      "execution_count": null,
      "outputs": []
    },
    {
      "cell_type": "code",
      "source": [
        "# YOLOv5 깃허브에서 코드 다운로드 (이미 다운로드된 경우 생략 가능)\n",
        "!git clone https://github.com/ultralytics/yolov5\n",
        "%cd yolov5\n",
        "!pip install -r requirements.txt  # 필요한 패키지 설치\n",
        "\n",
        "# Google Drive 마운트 (데이터 및 저장을 위해 필요)\n",
        "from google.colab import drive\n",
        "drive.mount('/content/drive')\n",
        "\n",
        "# 학습 실행 코드\n",
        "!python train.py --img 640 --batch 32 --epochs 300 --data  /content/DoroSeeV1/data.yaml --weights yolov5m.pt --hyp /content/yolov5/data/hyps/hyp.scratch-med.yaml --device 0\n"
      ],
      "metadata": {
        "id": "ILxp58e_JN-C"
      },
      "execution_count": null,
      "outputs": []
    },
    {
      "cell_type": "code",
      "source": [
        "%load_ext tensorboard\n",
        "%tensorboard --logdir runs/train\n"
      ],
      "metadata": {
        "id": "BEO8a9mbeoh8"
      },
      "execution_count": null,
      "outputs": []
    }
  ]
}